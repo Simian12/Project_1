{
 "cells": [
  {
   "cell_type": "code",
   "execution_count": null,
   "metadata": {},
   "outputs": [],
   "source": [
    "mport json\n",
    "import pandas as pd\n",
    "import hvplot.pandas\n",
    "import requests\n",
    "import numpy as np\n",
    "from config import openweather_key\n",
    "\n",
    "sales_data_path = \"/Users/matthewflanagan/Desktop/Data Analytics Work/Project 1/Project_1/file.csv\"\n",
    "\n",
    "\n",
    "sales_data = pd.read_csv(sales_data_path)\n",
    "\n",
    "sales_data.head()"
   ]
  }
 ],
 "metadata": {
  "kernelspec": {
   "display_name": "dsenv",
   "language": "python",
   "name": "python3"
  },
  "language_info": {
   "name": "python",
   "version": "3.10.13"
  }
 },
 "nbformat": 4,
 "nbformat_minor": 2
}
